{
 "cells": [
  {
   "cell_type": "markdown",
   "id": "3be8eab8",
   "metadata": {},
   "source": [
    "## SQL Practice Problems\n",
    "- **beginning, intermediate, and advanced challenges from the classic Microsoft Nothwind Database**\n",
    "- **Sylvia Moestl Vasilik**"
   ]
  },
  {
   "cell_type": "code",
   "execution_count": null,
   "id": "dba196ee",
   "metadata": {},
   "outputs": [],
   "source": [
    "# import of libraries\n",
    "\n",
    "import pymysql\n",
    "import pandas as pd\n",
    "import math\n",
    "import warnings\n",
    "warnings.filterwarnings('ignore')"
   ]
  },
  {
   "cell_type": "code",
   "execution_count": null,
   "id": "512d4f37",
   "metadata": {},
   "outputs": [],
   "source": [
    "# Adjust display options\n",
    "#pd.set_option('display.max_rows', None)   # Show unlimited rows\n",
    "pd.set_option('display.max_columns', None)   # Show unlimited columns"
   ]
  },
  {
   "cell_type": "code",
   "execution_count": null,
   "id": "568d4ac4",
   "metadata": {},
   "outputs": [],
   "source": [
    "# connection object\n",
    "cnx = pymysql.connect(\n",
    "    host = 'localhost',\n",
    "    user = 'root',\n",
    "    password = 'Samarth1999SK',\n",
    "    db = 'northwind'\n",
    ")"
   ]
  },
  {
   "cell_type": "code",
   "execution_count": null,
   "id": "d1b6f0a9",
   "metadata": {},
   "outputs": [],
   "source": [
    "# cursor object \n",
    "\n",
    "cursor = cnx.cursor()\n",
    "cursor.execute('SHOW TABLES')\n",
    "tables = cursor.fetchall()"
   ]
  },
  {
   "cell_type": "code",
   "execution_count": null,
   "id": "20d8a6b5",
   "metadata": {},
   "outputs": [],
   "source": [
    "tables = pd.DataFrame(tables, columns = ['Tables_in_Northwind'])\n",
    "\n",
    "# Define a function to apply the bold font style\n",
    "def apply_bold_style(val):\n",
    "    return 'font-weight: bold'\n",
    "\n",
    "# Create the styler object and apply the bold style to all cells\n",
    "tables = tables.style.applymap(apply_bold_style)\n",
    "tables = tables.hide(axis = 'index')\n",
    "\n",
    "tables"
   ]
  },
  {
   "cell_type": "code",
   "execution_count": null,
   "id": "ae37ca0a",
   "metadata": {},
   "outputs": [],
   "source": [
    "#query template\n",
    "\n",
    "query = 'SELECT * FROM order_details'\n",
    "pd.read_sql(query,cnx)"
   ]
  },
  {
   "cell_type": "markdown",
   "id": "a5ba87e6",
   "metadata": {},
   "source": [
    "# SQL Practice Problems\n",
    "* 57 questions of beginning, intermediate, and advanced level for practice."
   ]
  },
  {
   "cell_type": "markdown",
   "id": "277234f7",
   "metadata": {},
   "source": [
    "### 1. Which shippers do we have?\n",
    "\n",
    "We have a table called Shippers. Return all the fields from all the\n",
    "shippers"
   ]
  },
  {
   "cell_type": "code",
   "execution_count": null,
   "id": "f61d497c",
   "metadata": {},
   "outputs": [],
   "source": [
    "pd.read_sql('select * from shippers',cnx)"
   ]
  },
  {
   "cell_type": "code",
   "execution_count": null,
   "id": "76b61f42",
   "metadata": {},
   "outputs": [],
   "source": []
  },
  {
   "cell_type": "markdown",
   "id": "34f81648",
   "metadata": {},
   "source": [
    "### 2. Which categories do we have?\n",
    "We have a table called Shippers. \n",
    "Return all the fields from all the shippers."
   ]
  },
  {
   "cell_type": "code",
   "execution_count": null,
   "id": "9ecc0e65",
   "metadata": {},
   "outputs": [],
   "source": [
    "pd.read_sql('select category_name, description from Categories',cnx)"
   ]
  },
  {
   "cell_type": "code",
   "execution_count": null,
   "id": "8043cd1a",
   "metadata": {},
   "outputs": [],
   "source": []
  },
  {
   "cell_type": "markdown",
   "id": "bbf9b077",
   "metadata": {},
   "source": [
    "### 3. Sales Representatives\n",
    "We’d like to see just the FirstName, LastName, and HireDate of all the\n",
    "employees with the Title of Sales Representative. Write a SQL\n",
    "statement that returns only those employees."
   ]
  },
  {
   "cell_type": "code",
   "execution_count": null,
   "id": "1ce7d327",
   "metadata": {},
   "outputs": [],
   "source": [
    "q=\"\"\"select first_name, last_name, hire_date from employees where title='Sales Representative'\"\"\"\n",
    "pd.read_sql(q,cnx)"
   ]
  },
  {
   "cell_type": "code",
   "execution_count": null,
   "id": "cb3060dd",
   "metadata": {},
   "outputs": [],
   "source": []
  },
  {
   "cell_type": "markdown",
   "id": "e1e4c4be",
   "metadata": {},
   "source": [
    "### 4. Sales Representatives in the United States\n",
    "Now we’d like to see the same columns as above, but only for those\n",
    "employees that both have the title of Sales Representative, and also are\n",
    "in the United States."
   ]
  },
  {
   "cell_type": "code",
   "execution_count": null,
   "id": "d410b900",
   "metadata": {},
   "outputs": [],
   "source": [
    "q=\"\"\"select first_name, last_name, hire_date from employees where title = 'Sales Representative' and country = 'USA'\"\"\"\n",
    "pd.read_sql(q,cnx)"
   ]
  },
  {
   "cell_type": "code",
   "execution_count": null,
   "id": "cd1bfe5b",
   "metadata": {},
   "outputs": [],
   "source": []
  },
  {
   "cell_type": "markdown",
   "id": "640c1fed",
   "metadata": {},
   "source": [
    "### 5. Orders placed by specific EmployeeID\n",
    "Show all the orders placed by a specific employee. The EmployeeID for\n",
    "this Employee (Steven Buchanan) is 5."
   ]
  },
  {
   "cell_type": "code",
   "execution_count": null,
   "id": "2087a9bb",
   "metadata": {
    "scrolled": true
   },
   "outputs": [],
   "source": [
    "q=\"\"\"select order_id, order_date from orders where employee_id = 5\"\"\"\n",
    "pd.read_sql(q,cnx)"
   ]
  },
  {
   "cell_type": "code",
   "execution_count": null,
   "id": "4f0fed2b",
   "metadata": {},
   "outputs": [],
   "source": []
  },
  {
   "cell_type": "markdown",
   "id": "ece0b0f4",
   "metadata": {},
   "source": [
    "### 6. Suppliers and ContactTitles\n",
    "In the Suppliers table, show the SupplierID, ContactName, and\n",
    "ContactTitle for those Suppliers whose ContactTitle is not Marketing\n",
    "Manager."
   ]
  },
  {
   "cell_type": "code",
   "execution_count": null,
   "id": "40074bf6",
   "metadata": {},
   "outputs": [],
   "source": [
    "q=\"\"\"select supplier_id, contact_name, contact_name from suppliers where contact_title!='Marketing Manager'\"\"\"\n",
    "pd.read_sql(q,cnx)"
   ]
  },
  {
   "cell_type": "code",
   "execution_count": null,
   "id": "c70b5528",
   "metadata": {},
   "outputs": [],
   "source": []
  },
  {
   "cell_type": "markdown",
   "id": "ff3dcb06",
   "metadata": {},
   "source": [
    "### 7. Products with “queso” in ProductName\n",
    "In the products table, we’d like to see the ProductID and ProductName\n",
    "for those products where the ProductName includes the string “queso”."
   ]
  },
  {
   "cell_type": "code",
   "execution_count": null,
   "id": "a319718a",
   "metadata": {},
   "outputs": [],
   "source": [
    "q=\"\"\"select product_id, product_name from products where product_name like '%queso%'\"\"\"\n",
    "pd.read_sql(q,cnx)"
   ]
  },
  {
   "cell_type": "code",
   "execution_count": null,
   "id": "e72db592",
   "metadata": {},
   "outputs": [],
   "source": []
  },
  {
   "cell_type": "markdown",
   "id": "43f64637",
   "metadata": {},
   "source": [
    "### 8. Orders shipping to France or Belgium\n",
    "Looking at the Orders table, there’s a field called ShipCountry. Write a\n",
    "query that shows the OrderID, CustomerID, and ShipCountry for the\n",
    "orders where the ShipCountry is either France or Belgium"
   ]
  },
  {
   "cell_type": "code",
   "execution_count": null,
   "id": "71d6dfd5",
   "metadata": {},
   "outputs": [],
   "source": [
    "q=\"\"\"select order_id, customer_id, ship_country from orders where ship_country in ('France','Belgium')\"\"\"\n",
    "pd.read_sql(q,cnx)"
   ]
  },
  {
   "cell_type": "code",
   "execution_count": null,
   "id": "ffb488e6",
   "metadata": {},
   "outputs": [],
   "source": []
  },
  {
   "cell_type": "markdown",
   "id": "ba1483d3",
   "metadata": {},
   "source": [
    "### 9. Orders shipping to any country in Latin America\n",
    "Now, instead of just wanting to return all the orders from France of\n",
    "Belgium, we want to show all the orders from any Latin American\n",
    "country. But we don’t have a list of Latin American countries in a table\n",
    "in the Northwind database. So, we’re going to just use this list of Latin\n",
    "American countries that happen to be in the Orders table:\n",
    "* Brazil\n",
    "* Mexico\n",
    "* Argentina\n",
    "* Venezuela\n",
    "It doesn’t make sense to use multiple Or statements anymore, it would\n",
    "get too convoluted. Use the In statement."
   ]
  },
  {
   "cell_type": "code",
   "execution_count": null,
   "id": "a29b5d17",
   "metadata": {},
   "outputs": [],
   "source": [
    "q=\"\"\"select * from orders where ship_country in ('Brazil','Mexico','Argentina','Venezuela')\"\"\"\n",
    "pd.read_sql(q,cnx)"
   ]
  },
  {
   "cell_type": "code",
   "execution_count": null,
   "id": "cc220d95",
   "metadata": {},
   "outputs": [],
   "source": []
  },
  {
   "cell_type": "markdown",
   "id": "f304e9f4",
   "metadata": {},
   "source": [
    "### 10. Employees, in order of age\n",
    "For all the employees in the Employees table, show the FirstName,\n",
    "LastName, Title, and BirthDate. Order the results by BirthDate, so we\n",
    "have the oldest employees first."
   ]
  },
  {
   "cell_type": "code",
   "execution_count": null,
   "id": "6c2cb313",
   "metadata": {},
   "outputs": [],
   "source": [
    "q=\"\"\"select first_name, last_name, title, birth_date from employees order by birth_date;\n",
    "\"\"\"\n",
    "pd.read_sql(q,cnx)"
   ]
  },
  {
   "cell_type": "code",
   "execution_count": null,
   "id": "21397953",
   "metadata": {},
   "outputs": [],
   "source": []
  },
  {
   "cell_type": "markdown",
   "id": "63f219c2",
   "metadata": {},
   "source": [
    "### 11. Showing only the Date with a DateTime field\n",
    "In the output of the query above, showing the Employees in order of\n",
    "BirthDate, we see the time of the BirthDate field, which we don’t want.\n",
    "Show only the date portion of the BirthDate field."
   ]
  },
  {
   "cell_type": "code",
   "execution_count": null,
   "id": "d3154c63",
   "metadata": {},
   "outputs": [],
   "source": [
    "query = 'select employee_id, date(birth_date) from employees'\n",
    "pd.read_sql(query,cnx)"
   ]
  },
  {
   "cell_type": "code",
   "execution_count": null,
   "id": "1a31ea43",
   "metadata": {},
   "outputs": [],
   "source": []
  },
  {
   "cell_type": "markdown",
   "id": "3270de92",
   "metadata": {},
   "source": [
    "### 12. Employees full name\n",
    "Show the FirstName and LastName columns from the Employees table,\n",
    "and then create a new column called FullName, showing FirstName and\n",
    "LastName joined together in one column, with a space in-between."
   ]
  },
  {
   "cell_type": "code",
   "execution_count": null,
   "id": "dd5c3077",
   "metadata": {},
   "outputs": [],
   "source": [
    "query = \"select first_name, last_name, concat(first_name,' ',last_name) as full_name from employees\"\n",
    "\n",
    "pd.read_sql(query,cnx)"
   ]
  },
  {
   "cell_type": "code",
   "execution_count": null,
   "id": "94ac51fd",
   "metadata": {},
   "outputs": [],
   "source": []
  },
  {
   "cell_type": "markdown",
   "id": "efea42e7",
   "metadata": {},
   "source": [
    "### 13. OrderDetails amount per line item\n",
    "In the OrderDetails table, we have the fields UnitPrice and Quantity.\n",
    "Create a new field, TotalPrice, that multiplies these two together. We’ll\n",
    "ignore the Discount field for now.\n",
    "In addition, show the OrderID, ProductID, UnitPrice, and Quantity.\n",
    "Order by OrderID and ProductID."
   ]
  },
  {
   "cell_type": "code",
   "execution_count": null,
   "id": "4b4eb103",
   "metadata": {},
   "outputs": [],
   "source": [
    "query = \"\"\"select order_id, product_id, unit_price, quantity, round(unit_price*quantity,2) 'total_price' \n",
    "from order_details order by order_id, product_id\"\"\"\n",
    "pd.read_sql(query,cnx)"
   ]
  },
  {
   "cell_type": "code",
   "execution_count": null,
   "id": "79f160e3",
   "metadata": {},
   "outputs": [],
   "source": []
  },
  {
   "cell_type": "markdown",
   "id": "ec141c12",
   "metadata": {},
   "source": [
    "### 14. How many customers?\n",
    "How many customers do we have in the Customers table? Show one\n",
    "value only, and don’t rely on getting the recordcount at the end of a\n",
    "resultset."
   ]
  },
  {
   "cell_type": "code",
   "execution_count": null,
   "id": "8ab8b748",
   "metadata": {},
   "outputs": [],
   "source": [
    "query = \"\"\"select count(distinct customer_id) 'Count of customer' from customers\"\"\"\n",
    "\n",
    "pd.read_sql(query,cnx)"
   ]
  },
  {
   "cell_type": "code",
   "execution_count": null,
   "id": "5ad5e6c4",
   "metadata": {},
   "outputs": [],
   "source": []
  },
  {
   "cell_type": "markdown",
   "id": "08570b59",
   "metadata": {},
   "source": [
    "### 15. When was the first order?\n",
    "Show the date of the first order ever made in the Orders table"
   ]
  },
  {
   "cell_type": "code",
   "execution_count": null,
   "id": "54b3a016",
   "metadata": {},
   "outputs": [],
   "source": [
    "query = 'select * from orders order by order_date limit 1'\n",
    "pd.read_sql(query,cnx)"
   ]
  },
  {
   "cell_type": "code",
   "execution_count": null,
   "id": "a17c6559",
   "metadata": {},
   "outputs": [],
   "source": []
  },
  {
   "cell_type": "markdown",
   "id": "f1d3d06e",
   "metadata": {},
   "source": [
    "### 16. Countries where there are customers\n",
    "Show a list of countries where the Northwind company has customers."
   ]
  },
  {
   "cell_type": "code",
   "execution_count": null,
   "id": "562211b5",
   "metadata": {},
   "outputs": [],
   "source": [
    "query = 'select distinct country from customers order by country'\n",
    "\n",
    "pd.read_sql(query,cnx)"
   ]
  },
  {
   "cell_type": "code",
   "execution_count": null,
   "id": "616a8895",
   "metadata": {},
   "outputs": [],
   "source": []
  },
  {
   "cell_type": "markdown",
   "id": "0e0e9961",
   "metadata": {},
   "source": [
    "### 17. Contact titles for customers\n",
    "Show a list of all the different values in the Customers table for\n",
    "ContactTitles. Also include a count for each ContactTitle.\n",
    "This is similar in concept to the previous question “Countries where\n",
    "there are customers”, except we now want a count for each ContactTitle."
   ]
  },
  {
   "cell_type": "code",
   "execution_count": null,
   "id": "22a55989",
   "metadata": {},
   "outputs": [],
   "source": [
    "query = \"\"\"select contact_title,count(contact_title) 'count' from customers group by contact_title order by count desc\"\"\"\n",
    "\n",
    "pd.read_sql(query,cnx)"
   ]
  },
  {
   "cell_type": "code",
   "execution_count": null,
   "id": "1934c5f6",
   "metadata": {},
   "outputs": [],
   "source": []
  },
  {
   "cell_type": "markdown",
   "id": "9e91555a",
   "metadata": {},
   "source": [
    "### 18. Products with associated supplier names\n",
    "We’d like to show, for each product, the associated Supplier. Show the\n",
    "ProductID, ProductName, and the CompanyName of the Supplier. Sort\n",
    "by ProductID.\n",
    "This question will introduce what may be a new concept, the Join clause\n",
    "in SQL. The Join clause is used to join two or more relational database\n",
    "tables together in a logical way.\n",
    "Here’s a data model of the relationship between Products and Suppliers"
   ]
  },
  {
   "cell_type": "code",
   "execution_count": null,
   "id": "55b96e00",
   "metadata": {},
   "outputs": [],
   "source": [
    "query = \"\"\"select product_id, product_name, s.company_name  from products p join suppliers s on p.supplier_id=s.supplier_id order by product_id\"\"\"\n",
    "\n",
    "pd.read_sql(query,cnx)"
   ]
  },
  {
   "cell_type": "code",
   "execution_count": null,
   "id": "2e199235",
   "metadata": {},
   "outputs": [],
   "source": []
  },
  {
   "cell_type": "markdown",
   "id": "adf20cf3",
   "metadata": {},
   "source": [
    "### 19. Orders and the Shipper that was used\n",
    "We’d like to show a list of the Orders that were made, including the\n",
    "Shipper that was used. Show the OrderID, OrderDate (date only), and\n",
    "CompanyName of the Shipper, and sort by OrderID.\n",
    "In order to not show all the orders (there’s more than 800), show only\n",
    "those rows with an OrderID of less than 10300."
   ]
  },
  {
   "cell_type": "code",
   "execution_count": null,
   "id": "50f201e0",
   "metadata": {
    "scrolled": true
   },
   "outputs": [],
   "source": [
    "query = \"\"\"select order_id, order_date, s.company_name from orders o join shippers s on o.ship_via=s.shipper_id where order_id<10300\"\"\"\n",
    "pd.read_sql(query,cnx)"
   ]
  },
  {
   "cell_type": "code",
   "execution_count": null,
   "id": "2f0abdc7",
   "metadata": {},
   "outputs": [],
   "source": []
  },
  {
   "cell_type": "markdown",
   "id": "65cfa026",
   "metadata": {},
   "source": [
    "# Intermediate Problems"
   ]
  },
  {
   "cell_type": "code",
   "execution_count": null,
   "id": "3a7999cc",
   "metadata": {},
   "outputs": [],
   "source": []
  },
  {
   "cell_type": "markdown",
   "id": "9187041b",
   "metadata": {},
   "source": [
    "### 20. Categories, and the total products in each category\n",
    "For this problem, we’d like to see the total number of products in each\n",
    "category. Sort the results by the total number of products, in descending\n",
    "order"
   ]
  },
  {
   "cell_type": "code",
   "execution_count": null,
   "id": "767719a1",
   "metadata": {},
   "outputs": [],
   "source": [
    "query = \"\"\"select p.category_id, c.category_name, count(p.category_id) count from products p join categories c on p.category_id= c.category_id group by category_id order by count desc;\"\"\"\n",
    "pd.read_sql(query,cnx)"
   ]
  },
  {
   "cell_type": "code",
   "execution_count": null,
   "id": "b6f7cd75",
   "metadata": {},
   "outputs": [],
   "source": []
  },
  {
   "cell_type": "markdown",
   "id": "27cd14c6",
   "metadata": {},
   "source": [
    "### 21. Total customers per country/city\n",
    "In the Customers table, show the total number of customers per Country\n",
    "and City"
   ]
  },
  {
   "cell_type": "code",
   "execution_count": null,
   "id": "e1109eec",
   "metadata": {},
   "outputs": [],
   "source": [
    "query = \"\"\"select country, city, count(customer_id) count from customers group by country, city order by count desc\"\"\"\n",
    "pd.read_sql(query,cnx)"
   ]
  },
  {
   "cell_type": "code",
   "execution_count": null,
   "id": "54078224",
   "metadata": {},
   "outputs": [],
   "source": []
  },
  {
   "cell_type": "markdown",
   "id": "f4d0b42f",
   "metadata": {},
   "source": [
    "### 22. Products that need reordering\n",
    "What products do we have in our inventory that should be reordered?\n",
    "For now, just use the fields UnitsInStock and ReorderLevel, where\n",
    "UnitsInStock is less than the ReorderLevel, ignoring the fields\n",
    "UnitsOnOrder and Discontinued.\n",
    "Order the results by ProductID."
   ]
  },
  {
   "cell_type": "code",
   "execution_count": null,
   "id": "7dee63bc",
   "metadata": {},
   "outputs": [],
   "source": [
    "query = \"\"\"select product_id, product_name, units_in_stock, reorder_level from products where units_in_stock<reorder_level order by product_id;\"\"\"\n",
    "pd.read_sql(query,cnx)"
   ]
  },
  {
   "cell_type": "code",
   "execution_count": null,
   "id": "94655e61",
   "metadata": {},
   "outputs": [],
   "source": []
  },
  {
   "cell_type": "markdown",
   "id": "11ead699",
   "metadata": {},
   "source": [
    "### 23. Products that need reordering, continued\n",
    "Now we need to incorporate these fields—UnitsInStock, UnitsOnOrder,\n",
    "ReorderLevel, Discontinued—into our calculation. We’ll define\n",
    "“products that need reordering” with the following:\n",
    "UnitsInStock plus UnitsOnOrder are less than or equal to\n",
    "ReorderLevel\n",
    "The Discontinued flag is false (0)"
   ]
  },
  {
   "cell_type": "code",
   "execution_count": null,
   "id": "b4f7da14",
   "metadata": {},
   "outputs": [],
   "source": [
    "query = \"\"\"select * from  products where units_in_stock+units_on_order<=reorder_level and discontinued=0\"\"\"\n",
    "pd.read_sql(query,cnx)"
   ]
  },
  {
   "cell_type": "code",
   "execution_count": null,
   "id": "58a5d031",
   "metadata": {},
   "outputs": [],
   "source": []
  },
  {
   "cell_type": "markdown",
   "id": "9e0a38fc",
   "metadata": {},
   "source": [
    "### 24. Customer list by region\n",
    "A salesperson for Northwind is going on a business trip to visit\n",
    "customers, and would like to see a list of all customers, sorted by\n",
    "region, alphabetically.\n",
    "However, he wants the customers with no region (null in the Region\n",
    "field) to be at the end, instead of at the top, where you’d normally find\n",
    "the null values. Within the same region, companies should be sorted by\n",
    "CustomerID"
   ]
  },
  {
   "cell_type": "code",
   "execution_count": null,
   "id": "02d0e64d",
   "metadata": {},
   "outputs": [],
   "source": [
    "query = \"\"\"select customer_id, company_name,region\n",
    "from customers order by \n",
    "case\n",
    "when region is null then 1 else 0 end, region, customer_id\"\"\"\n",
    "pd.read_sql(query,cnx)"
   ]
  },
  {
   "cell_type": "code",
   "execution_count": null,
   "id": "9cd3de80",
   "metadata": {},
   "outputs": [],
   "source": []
  },
  {
   "cell_type": "markdown",
   "id": "46b8c0f8",
   "metadata": {},
   "source": [
    "### 25. High freight charges\n",
    "Some of the countries we ship to have very high freight charges. We'd\n",
    "like to investigate some more shipping options for our customers, to be\n",
    "able to offer them lower freight charges. Return the three ship countries\n",
    "with the highest average freight overall, in descending order by average\n",
    "freight"
   ]
  },
  {
   "cell_type": "code",
   "execution_count": null,
   "id": "7b9efd5d",
   "metadata": {},
   "outputs": [],
   "source": [
    "query = \"\"\"select ship_country, round(avg(freight),2) 'avg' from orders group by ship_country order by avg desc limit 3\"\"\"\n",
    "pd.read_sql(query,cnx)"
   ]
  },
  {
   "cell_type": "code",
   "execution_count": null,
   "id": "31f329ee",
   "metadata": {},
   "outputs": [],
   "source": []
  },
  {
   "cell_type": "markdown",
   "id": "ee10c0ac",
   "metadata": {},
   "source": [
    "### 26. High freight charges - 1996\n",
    "We're continuing on the question above on high freight charges. Now,\n",
    "instead of using all the orders we have, we only want to see orders from\n",
    "the year 1996."
   ]
  },
  {
   "cell_type": "code",
   "execution_count": null,
   "id": "fb6e7b70",
   "metadata": {},
   "outputs": [],
   "source": [
    "query = \"\"\"select ship_country, order_date, round(avg(freight),2) 'avg' from orders where year(order_date)=1996 group by ship_country order by avg desc;\"\"\"\n",
    "pd.read_sql(query,cnx)"
   ]
  },
  {
   "cell_type": "code",
   "execution_count": null,
   "id": "1123f679",
   "metadata": {},
   "outputs": [],
   "source": []
  },
  {
   "cell_type": "markdown",
   "id": "ab32b89b",
   "metadata": {},
   "source": [
    "### 27. High freight charges with between\n",
    "Notice when you run this, it gives Sweden as the ShipCountry with the\n",
    "third highest freight charges. However, this is wrong - it should be\n",
    "France.\n",
    "What is the OrderID of the order that the (incorrect) answer above is\n",
    "missing?"
   ]
  },
  {
   "cell_type": "code",
   "execution_count": null,
   "id": "7680a9fc",
   "metadata": {},
   "outputs": [],
   "source": [
    "# query = \"\"\"\"\"\"\n",
    "# pd.read_sql(query,cnx)"
   ]
  },
  {
   "cell_type": "code",
   "execution_count": null,
   "id": "a4b2387f",
   "metadata": {},
   "outputs": [],
   "source": []
  },
  {
   "cell_type": "markdown",
   "id": "084d7df0",
   "metadata": {},
   "source": [
    "### 28. High freight charges - last year\n",
    "We're continuing to work on high freight charges. We now want to get\n",
    "the three ship countries with the highest average freight charges. But\n",
    "instead of filtering for a particular year, we want to use the last 12\n",
    "months of order data, using as the end date the last OrderDate in Orders"
   ]
  },
  {
   "cell_type": "code",
   "execution_count": null,
   "id": "5b9a9224",
   "metadata": {},
   "outputs": [],
   "source": [
    "query = \"\"\"select ship_country, round(avg(freight),3) avg from orders \n",
    "where datediff((select order_date from orders order by order_date desc limit 1),order_date) <= 365 \n",
    "group by ship_country order by avg desc limit 3\"\"\"\n",
    "pd.read_sql(query,cnx)"
   ]
  },
  {
   "cell_type": "code",
   "execution_count": null,
   "id": "f41fe89e",
   "metadata": {},
   "outputs": [],
   "source": []
  },
  {
   "cell_type": "markdown",
   "id": "ce0f3d68",
   "metadata": {},
   "source": [
    "### 29. Inventory list\n",
    "We're doing inventory, and need to show information like the below, for\n",
    "all orders. Sort by OrderID and Product ID"
   ]
  },
  {
   "cell_type": "code",
   "execution_count": null,
   "id": "dd4bc9f5",
   "metadata": {},
   "outputs": [],
   "source": [
    "query = \"\"\"select e.employee_id, last_name, od.order_id, product_name, quantity \n",
    "from order_details od join orders o on od.order_id=o.order_id \n",
    "join employees e on o.employee_id = e.employee_id \n",
    "join products p on od.product_id=p.product_id \n",
    "order by od.order_id, p.product_id\"\"\"\n",
    "pd.read_sql(query,cnx)"
   ]
  },
  {
   "cell_type": "code",
   "execution_count": null,
   "id": "7b9e2893",
   "metadata": {},
   "outputs": [],
   "source": []
  },
  {
   "cell_type": "markdown",
   "id": "057e673e",
   "metadata": {},
   "source": [
    "### 30. Customers with no orders\n",
    "There are some customers who have never actually placed an order.\n",
    "Show these customers"
   ]
  },
  {
   "cell_type": "code",
   "execution_count": null,
   "id": "928d41e1",
   "metadata": {},
   "outputs": [],
   "source": [
    "query = \"\"\"select customer_id from customers where customer_id not in (select customer_id from orders where customer_id is not null);\"\"\"\n",
    "pd.read_sql(query,cnx)"
   ]
  },
  {
   "cell_type": "code",
   "execution_count": null,
   "id": "b3cb2d99",
   "metadata": {},
   "outputs": [],
   "source": []
  },
  {
   "cell_type": "markdown",
   "id": "96cd2334",
   "metadata": {},
   "source": [
    "### 31. Customers with no orders for EmployeeID 4\n",
    "\n",
    "One employee (Margaret Peacock, EmployeeID 4) has placed the most orders. However, there are some customers who've never placed an order with her. Show only those customers who have never placed an order with her.\n"
   ]
  },
  {
   "cell_type": "code",
   "execution_count": null,
   "id": "58b0ba0f",
   "metadata": {
    "scrolled": false
   },
   "outputs": [],
   "source": [
    "#query template\n",
    "\n",
    "query = \"\"\"SELECT Customers.Customer_ID\n",
    "FROM Customers\n",
    "LEFT JOIN (\n",
    "  SELECT DISTINCT Customer_ID\n",
    "  FROM Orders\n",
    "  WHERE Employee_ID = 4\n",
    ") OrdersWithEmployee4\n",
    "ON Customers.Customer_ID = OrdersWithEmployee4.Customer_ID\n",
    "WHERE OrdersWithEmployee4.Customer_ID IS NULL\n",
    "\"\"\"\n",
    "\n",
    "pd.read_sql(query,cnx)"
   ]
  },
  {
   "cell_type": "code",
   "execution_count": null,
   "id": "7b6fb72e",
   "metadata": {},
   "outputs": [],
   "source": [
    "#query template\n",
    "\n",
    "query = \"\"\"\n",
    "SELECT customer_id FROM customers\n",
    "WHERE customer_id NOT IN (\n",
    "SELECT customer_id FROM orders\n",
    "    where employee_id = 4\n",
    ")\n",
    "\"\"\"\n",
    "pd.read_sql(query,cnx)"
   ]
  },
  {
   "cell_type": "code",
   "execution_count": null,
   "id": "1832fb53",
   "metadata": {},
   "outputs": [],
   "source": []
  },
  {
   "cell_type": "markdown",
   "id": "72dbee07",
   "metadata": {},
   "source": [
    "# Advanced Problems"
   ]
  },
  {
   "cell_type": "code",
   "execution_count": null,
   "id": "8c0aa416",
   "metadata": {},
   "outputs": [],
   "source": []
  },
  {
   "cell_type": "markdown",
   "id": "62988c7d",
   "metadata": {},
   "source": [
    "### 32. High-value customers  \n",
    "\n",
    "We want to send all of our high-value customers a special VIP gift.\n",
    "We're defining high-value customers as those who've made at least 1\n",
    "order with a total value (not including the discount) equal to $10,000 or\n",
    "more. We only want to consider orders made in the year 1998."
   ]
  },
  {
   "cell_type": "code",
   "execution_count": null,
   "id": "02363053",
   "metadata": {},
   "outputs": [],
   "source": [
    "#query template\n",
    "\n",
    "query = \"\"\"\n",
    "select c.customer_id, c.company_name, o.order_id, o.order_date, round(sum(unit_price*quantity),3) Single_Order_Value \n",
    "from order_details od \n",
    "join orders o on od.order_id=o.order_id \n",
    "join customers c on c.customer_id=o.customer_id \n",
    "where year(order_date)=1998 group by od.order_id having Single_Order_Value>10000 order by Single_Order_Value desc\n",
    "\"\"\"\n",
    "pd.read_sql(query,cnx)"
   ]
  },
  {
   "cell_type": "code",
   "execution_count": null,
   "id": "f5a7c059",
   "metadata": {},
   "outputs": [],
   "source": []
  },
  {
   "cell_type": "markdown",
   "id": "11df4dca",
   "metadata": {},
   "source": [
    "### 33. High-value customers - total orders  \n",
    "\n",
    "The manager has changed his mind. Instead of requiring that customers\n",
    "have at least one individual orders totaling `$10,000` or more, he wants to\n",
    "define high-value customers as those who have orders totaling `$15,000`\n",
    "or more in 1998. How would you change the answer to the problem\n",
    "above?\n"
   ]
  },
  {
   "cell_type": "code",
   "execution_count": null,
   "id": "b628a26c",
   "metadata": {},
   "outputs": [],
   "source": [
    "#query template\n",
    "\n",
    "query = \"\"\"\n",
    "SELECT c.customer_id, c.company_name, sum(unit_price * quantity) as 'Total_Order_Value'\n",
    "FROM order_details od\n",
    "INNER JOIN orders o ON o.order_id = od.order_id\n",
    "INNER JOIN customers c ON o.customer_id = c.customer_id\n",
    "WHERE o.order_id IN\n",
    "(SELECT order_id FROM orders WHERE YEAR(order_date) = 1998)\n",
    "group by c.customer_id, c.company_name HAVING sum(unit_price * quantity) > 15000\n",
    "\"\"\"\n",
    "pd.read_sql(query,cnx)"
   ]
  },
  {
   "cell_type": "code",
   "execution_count": null,
   "id": "4948b772",
   "metadata": {},
   "outputs": [],
   "source": []
  },
  {
   "cell_type": "markdown",
   "id": "7bb57033",
   "metadata": {},
   "source": [
    "### 34. High-value customers - with discount  \n",
    "\n",
    "Change the above query to use the discount when calculating high-value\n",
    "customers. Order by the total amount which includes the discount."
   ]
  },
  {
   "cell_type": "code",
   "execution_count": null,
   "id": "9ea5d3ae",
   "metadata": {},
   "outputs": [],
   "source": [
    "#query template\n",
    "\n",
    "query = \"\"\"\n",
    "\n",
    "SELECT c.customer_id, sum(unit_price * quantity * (1 - discount)) as 'Total_Order_Value_With_Discount',\n",
    "sum(unit_price * quantity) as 'Total_Order_Value_Without_Discount'\n",
    "FROM order_details od\n",
    "INNER JOIN orders o ON o.order_id = od.order_id\n",
    "INNER JOIN customers c ON o.customer_id = c.customer_id\n",
    "WHERE o.order_id IN\n",
    "(SELECT order_id FROM orders WHERE YEAR(order_date) = 1998)\n",
    "group by c.customer_id HAVING sum(unit_price * quantity * (1 - discount)) > 10000\n",
    "\n",
    "\"\"\"\n",
    "\n",
    "pd.read_sql(query,cnx)"
   ]
  },
  {
   "cell_type": "code",
   "execution_count": null,
   "id": "f9d5d4ff",
   "metadata": {},
   "outputs": [],
   "source": []
  },
  {
   "cell_type": "markdown",
   "id": "01087ee3",
   "metadata": {},
   "source": [
    "### 35. Month-end orders  \n",
    "\n",
    "At the end of the month, salespeople are likely to try much harder to get\n",
    "orders, to meet their month-end quotas. Show all orders made on the last\n",
    "day of the month. Order by EmployeeID and OrderID\n"
   ]
  },
  {
   "cell_type": "code",
   "execution_count": null,
   "id": "a479f8d1",
   "metadata": {
    "scrolled": true
   },
   "outputs": [],
   "source": [
    "#query template\n",
    "\n",
    "query = \"\"\"\n",
    "\n",
    "SELECT *\n",
    "FROM orders\n",
    "WHERE DAY(Order_Date) = DAY(LAST_DAY(Order_Date))\n",
    "ORDER BY Employee_ID, Order_ID;\n",
    "\n",
    "\"\"\"\n",
    "\n",
    "pd.read_sql(query,cnx)"
   ]
  },
  {
   "cell_type": "code",
   "execution_count": null,
   "id": "30c3016f",
   "metadata": {},
   "outputs": [],
   "source": [
    "#query template\n",
    "\n",
    "query = \"\"\"\n",
    "\n",
    "SELECT * FROM orders WHERE DAY(order_date) IN \n",
    "(SELECT DAY(LAST_DAY(order_date)) FROM orders GROUP BY MONTH(order_date))\n",
    "ORDER BY employee_id, order_id\n",
    "\n",
    "\"\"\"\n",
    "\n",
    "pd.read_sql(query,cnx)"
   ]
  },
  {
   "cell_type": "code",
   "execution_count": null,
   "id": "276cb914",
   "metadata": {},
   "outputs": [],
   "source": []
  },
  {
   "cell_type": "markdown",
   "id": "d34e798d",
   "metadata": {},
   "source": [
    "### 36. Orders with many line items  \n",
    "\n",
    "The Northwind mobile app developers are testing an app that customers\n",
    "will use to show orders. In order to make sure that even the largest\n",
    "orders will show up correctly on the app, they'd like some samples of\n",
    "orders that have lots of individual line items. Show the 10 orders with\n",
    "the most line items, in order of total line items.\n"
   ]
  },
  {
   "cell_type": "code",
   "execution_count": null,
   "id": "c61efbae",
   "metadata": {},
   "outputs": [],
   "source": [
    "#query template\n",
    "\n",
    "query = \"\"\"\n",
    "\n",
    "WITH TAB1 AS\n",
    "(\n",
    "SELECT order_id, COUNT(order_id) AS LINE_ITEMS_COUNT, ROW_NUMBER() OVER(ORDER BY COUNT(order_id) DESC) AS ROW_NUM\n",
    "FROM order_details GROUP BY order_id\n",
    ") \n",
    "\n",
    "SELECT order_id, LINE_ITEMS_COUNT FROM TAB1 WHERE ROW_NUM < 11\n",
    "\n",
    "\"\"\"\n",
    "\n",
    "pd.read_sql(query,cnx)"
   ]
  },
  {
   "cell_type": "code",
   "execution_count": null,
   "id": "6bc97326",
   "metadata": {},
   "outputs": [],
   "source": []
  },
  {
   "cell_type": "markdown",
   "id": "e40246c5",
   "metadata": {},
   "source": [
    "### 37. Orders - random assortment  \n",
    "\n",
    "The Northwind mobile app developers would now like to just get a\n",
    "random assortment of orders for beta testing on their app. Show a\n",
    "random set of 2% of all orders.\n"
   ]
  },
  {
   "cell_type": "code",
   "execution_count": null,
   "id": "b6130e3e",
   "metadata": {},
   "outputs": [],
   "source": [
    "pd.read_sql(\"\"\"select order_id from orders where rand()<=0.02\"\"\",cnx)"
   ]
  },
  {
   "cell_type": "code",
   "execution_count": null,
   "id": "58dd9cad",
   "metadata": {},
   "outputs": [],
   "source": [
    "# Establish the database connection\n",
    "connection = pymysql.connect(host='localhost',\n",
    "                             user='root',\n",
    "                             password='Samarth1999SK',\n",
    "                             db='northwind')\n",
    "\n",
    "try:\n",
    "    with connection.cursor() as cursor:\n",
    "        \n",
    "        # Drop the stored procedure\n",
    "        cursor.execute(\"DROP PROCEDURE IF EXISTS RandomOrders\")\n",
    "        \n",
    "        # Drop the stored procedure\n",
    "        cursor.execute(\"DROP PROCEDURE IF EXISTS GetRandomOrders\")\n",
    "\n",
    "        # Create the stored procedure\n",
    "        cursor.execute(\"\"\"\n",
    "        CREATE PROCEDURE GetRandomOrders()\n",
    "        BEGIN\n",
    "            SET @rows = (SELECT ROUND(COUNT(*) * 0.02) FROM orders);\n",
    "            SET @sql = CONCAT('SELECT ORDER_ID FROM orders ORDER BY RAND() LIMIT ', @rows);\n",
    "            PREPARE stmt FROM @sql;\n",
    "            EXECUTE stmt;\n",
    "            DEALLOCATE PREPARE stmt;\n",
    "        END\n",
    "        \"\"\")\n",
    "\n",
    "    # Commit the changes\n",
    "    connection.commit()\n",
    "\n",
    "finally:\n",
    "    connection.close()"
   ]
  },
  {
   "cell_type": "code",
   "execution_count": null,
   "id": "22fbcf66",
   "metadata": {},
   "outputs": [],
   "source": [
    "#query template\n",
    "\n",
    "query = \"\"\"\n",
    "\n",
    "CALL GetRandomOrders();\n",
    "\n",
    "\"\"\"\n",
    "\n",
    "pd.read_sql(query,cnx)"
   ]
  },
  {
   "cell_type": "code",
   "execution_count": null,
   "id": "bb32b1f3",
   "metadata": {},
   "outputs": [],
   "source": [
    "#query template\n",
    "\n",
    "query = \"\"\"\n",
    "\n",
    "WITH TAB1 AS\n",
    "(\n",
    "SELECT *, ROW_NUMBER() OVER() AS ROW_NUM\n",
    "FROM orders\n",
    "),\n",
    "\n",
    "TAB2 AS\n",
    "(SELECT MAX(ROW_NUM)*0.02 AS DATA_PORTION from TAB1)\n",
    "\n",
    "SELECT TAB1.* FROM TAB1 WHERE TAB1.ROW_NUM <= (SELECT DATA_PORTION FROM TAB2)\n",
    "\n",
    "\"\"\"\n",
    "\n",
    "pd.read_sql(query,cnx)"
   ]
  },
  {
   "cell_type": "code",
   "execution_count": null,
   "id": "6a6db761",
   "metadata": {},
   "outputs": [],
   "source": [
    "#query template\n",
    "\n",
    "cursor = cnx.cursor()\n",
    "cursor.execute('SET @rows = CEIL((SELECT COUNT(*) FROM orders) * 0.02)')\n",
    "\n",
    "query = \"\"\"\n",
    "\n",
    "WITH TAB1 AS\n",
    "(\n",
    "SELECT order_id, ROW_NUMBER() OVER() AS ROW_NUM\n",
    "FROM orders\n",
    ")\n",
    "\n",
    "SELECT * FROM TAB1 WHERE ROW_NUM <= @rows;\n",
    "\n",
    "\"\"\"\n",
    "\n",
    "pd.read_sql(query,cnx)"
   ]
  },
  {
   "cell_type": "code",
   "execution_count": null,
   "id": "0b706cb2",
   "metadata": {},
   "outputs": [],
   "source": []
  },
  {
   "cell_type": "markdown",
   "id": "86fb4c50",
   "metadata": {},
   "source": [
    "### 38. Orders - accidental double-entry  \n",
    "\n",
    "Janet Leverling, one of the salespeople, has come to you with a request.\n",
    "She thinks that she accidentally double-entered a line item on an order,\n",
    "with a different ProductID, but the same quantity. She remembers that\n",
    "the quantity was 60 or more. Show all the OrderIDs with line items that\n",
    "match this, in order of OrderID."
   ]
  },
  {
   "cell_type": "code",
   "execution_count": null,
   "id": "bff6d413",
   "metadata": {},
   "outputs": [],
   "source": [
    "#query template\n",
    "\n",
    "query = \"\"\"\n",
    "WITH TAB1 AS\n",
    "(\n",
    "SELECT order_id, quantity, COUNT(*) AS 'GROUP_SIZE'\n",
    "FROM order_details where quantity >= 60 GROUP BY order_id, quantity\n",
    ")\n",
    "SELECT order_id, quantity FROM TAB1 WHERE GROUP_SIZE > 1\n",
    "\"\"\"\n",
    "\n",
    "pd.read_sql(query,cnx)"
   ]
  },
  {
   "cell_type": "code",
   "execution_count": null,
   "id": "a0cd7513",
   "metadata": {},
   "outputs": [],
   "source": [
    "#query template\n",
    "\n",
    "query = \"\"\"\n",
    "select t.order_id, t.Quantity from\n",
    "(select order_id, product_id, quantity, count(quantity) a \n",
    "from order_details \n",
    "where quantity>=60 \n",
    "group by order_id, quantity order by order_id, quantity, product_id)t \n",
    "where t.a>1;\n",
    "\"\"\"\n",
    "\n",
    "pd.read_sql(query,cnx)"
   ]
  },
  {
   "cell_type": "code",
   "execution_count": null,
   "id": "56c9e85e",
   "metadata": {},
   "outputs": [],
   "source": []
  },
  {
   "cell_type": "markdown",
   "id": "41920b69",
   "metadata": {},
   "source": [
    "### 39. Orders - accidental double-entry details  \n",
    "\n",
    "Based on the previous question, we now want to show details of the\n",
    "order, for orders that match the above criteria.\n"
   ]
  },
  {
   "cell_type": "code",
   "execution_count": null,
   "id": "2dde47a1",
   "metadata": {},
   "outputs": [],
   "source": [
    "#query template\n",
    "\n",
    "query = \"\"\"\n",
    "\n",
    "WITH TAB1 AS\n",
    "(\n",
    "SELECT order_id, quantity, COUNT(*) OVER(PARTITION BY order_id, quantity ORDER BY order_id) AS 'GROUP_SIZE'\n",
    "FROM order_details where quantity >= 60\n",
    ")\n",
    "SELECT * FROM order_details WHERE order_id IN (SELECT order_id FROM TAB1 WHERE GROUP_SIZE > 1)\n",
    "\n",
    "\"\"\"\n",
    "\n",
    "pd.read_sql(query,cnx)"
   ]
  },
  {
   "cell_type": "code",
   "execution_count": null,
   "id": "37e0b93d",
   "metadata": {},
   "outputs": [],
   "source": [
    "#query template\n",
    "\n",
    "query = \"\"\"\n",
    "select * from order_details where order_id in \n",
    "(select t.order_id from\n",
    "(select order_id, product_id, quantity, count(quantity) a \n",
    "from order_details \n",
    "where quantity>=60 \n",
    "group by order_id, quantity order by order_id, quantity, product_id)t where t.a>1);\n",
    "\"\"\"\n",
    "\n",
    "pd.read_sql(query,cnx)"
   ]
  },
  {
   "cell_type": "code",
   "execution_count": null,
   "id": "12565a2c",
   "metadata": {},
   "outputs": [],
   "source": []
  },
  {
   "cell_type": "markdown",
   "id": "de855fa0",
   "metadata": {},
   "source": [
    "### 41. Late orders  \n",
    "\n",
    "Some customers are complaining about their orders arriving late. Which\n",
    "orders are late?\n"
   ]
  },
  {
   "cell_type": "code",
   "execution_count": null,
   "id": "785563ee",
   "metadata": {},
   "outputs": [],
   "source": [
    "#query template\n",
    "\n",
    "query = \"\"\"\n",
    "\n",
    "SELECT order_id, order_date, required_date, shipped_date\n",
    "FROM orders WHERE (required_date - shipped_date) <= -1\n",
    " \n",
    "\"\"\"\n",
    "\n",
    "pd.read_sql(query,cnx)"
   ]
  },
  {
   "cell_type": "code",
   "execution_count": null,
   "id": "495b2aef",
   "metadata": {},
   "outputs": [],
   "source": []
  },
  {
   "cell_type": "markdown",
   "id": "c51190bd",
   "metadata": {},
   "source": [
    "### 42. Late orders - which employees?  \n",
    "\n",
    "Some salespeople have more orders arriving late than others. Maybe\n",
    "they're not following up on the order process, and need more training.\n",
    "Which salespeople have the most orders arriving late?\n"
   ]
  },
  {
   "cell_type": "code",
   "execution_count": null,
   "id": "234e7f14",
   "metadata": {},
   "outputs": [],
   "source": [
    "#query template\n",
    "\n",
    "query = \"\"\"\n",
    "\n",
    "SELECT TAB1.employee_id, last_name, LATE_ORDERS_COUNT FROM employees \n",
    "INNER JOIN\n",
    "(SELECT employee_id, COUNT(employee_id) AS 'LATE_ORDERS_COUNT'\n",
    "FROM orders WHERE (required_date - shipped_date) <= -1 GROUP BY employee_id) AS TAB1\n",
    "ON employees.employee_id = TAB1.employee_id\n",
    "WHERE LATE_ORDERS_COUNT > 1\n",
    " \n",
    "\"\"\"\n",
    "\n",
    "pd.read_sql(query,cnx)"
   ]
  },
  {
   "cell_type": "code",
   "execution_count": null,
   "id": "3edda08c",
   "metadata": {},
   "outputs": [],
   "source": []
  },
  {
   "cell_type": "markdown",
   "id": "40976594",
   "metadata": {},
   "source": [
    "### 43. Late orders vs. total orders  \n",
    "\n",
    "Andrew, the VP of sales, has been doing some more thinking some more\n",
    "about the problem of late orders. He realizes that just looking at the\n",
    "number of orders arriving late for each salesperson isn't a good idea. It\n",
    "needs to be compared against the total number of orders per\n",
    "salesperson."
   ]
  },
  {
   "cell_type": "code",
   "execution_count": null,
   "id": "3ce679ba",
   "metadata": {},
   "outputs": [],
   "source": [
    "#query template\n",
    "\n",
    "query = \"\"\"\n",
    "\n",
    "WITH TAB1 AS\n",
    "(SELECT employee_id, COUNT(employee_id) AS 'LATE_ORDERS_COUNT'\n",
    "FROM orders WHERE (required_date - shipped_date) <= -1 GROUP BY employee_id),\n",
    "\n",
    "TAB2 AS\n",
    "(SELECT employee_id, COUNT(employee_id) AS 'TOTAL_ORDERS_COUNT'\n",
    "FROM orders WHERE employee_id in (SELECT employee_id FROM TAB1 WHERE LATE_ORDERS_COUNT > 1) GROUP BY employee_id\n",
    ")\n",
    "\n",
    "SELECT TAB1.employee_id, last_name, TAB1.LATE_ORDERS_COUNT, TAB2.TOTAL_ORDERS_COUNT\n",
    "FROM employees e INNER JOIN TAB1\n",
    "ON TAB1.employee_id = e.employee_id\n",
    "INNER JOIN TAB2\n",
    "ON TAB2.employee_id = e.employee_id\n",
    " \n",
    "\"\"\"\n",
    "\n",
    "pd.read_sql(query,cnx)"
   ]
  },
  {
   "cell_type": "code",
   "execution_count": null,
   "id": "aef3c65a",
   "metadata": {},
   "outputs": [],
   "source": [
    "#query template\n",
    "\n",
    "query = \"\"\"\n",
    "\n",
    "\n",
    "WITH TAB1 AS (\n",
    "  SELECT e.employee_id, e.last_name, COUNT(o.employee_id) AS 'LATE_ORDERS_COUNT'\n",
    "  FROM employees e\n",
    "  INNER JOIN orders o ON e.employee_id = o.employee_id\n",
    "  WHERE (o.required_date - o.shipped_date) <= -1 \n",
    "  GROUP BY e.employee_id\n",
    "  HAVING COUNT(o.employee_id) > 1\n",
    ")\n",
    "\n",
    "SELECT TAB1.*, COUNT(o.employee_id) AS 'TOTAL_ORDERS_COUNT'\n",
    "FROM TAB1\n",
    "JOIN orders o ON TAB1.employee_id = o.employee_id\n",
    "GROUP BY TAB1.employee_id;\n",
    "\n",
    "\n",
    "\n",
    "\"\"\"\n",
    "\n",
    "pd.read_sql(query,cnx)"
   ]
  },
  {
   "cell_type": "code",
   "execution_count": null,
   "id": "753139fc",
   "metadata": {},
   "outputs": [],
   "source": []
  },
  {
   "cell_type": "markdown",
   "id": "feba3679",
   "metadata": {},
   "source": [
    "### 44. Late orders vs. total orders - missing employee  \n",
    "\n",
    "There's an employee missing in the answer from the problem above. Fix\n",
    "the SQL to show all employees who have taken orders.\n"
   ]
  },
  {
   "cell_type": "code",
   "execution_count": null,
   "id": "9545c79e",
   "metadata": {},
   "outputs": [],
   "source": [
    "#query template\n",
    "\n",
    "query = \"\"\"\n",
    "\n",
    "\n",
    "WITH TAB1 AS\n",
    "(\n",
    "SELECT TAB1.employee_id, last_name, LATE_ORDERS_COUNT FROM employees e\n",
    "INNER JOIN\n",
    "(SELECT employee_id, COUNT(employee_id) AS 'LATE_ORDERS_COUNT'\n",
    "FROM orders WHERE (required_date - shipped_date) <= -1 GROUP BY employee_id) AS TAB1\n",
    "ON e.employee_id = TAB1.employee_id\n",
    "GROUP BY employee_id\n",
    ")\n",
    "\n",
    "SELECT TAB1.*, COUNT(o.employee_id) AS 'TOTAL_ORDERS_COUNT'\n",
    "FROM orders o INNER JOIN TAB1\n",
    "ON o.employee_id = TAB1.employee_id\n",
    "GROUP BY o.employee_id\n",
    "\n",
    "\"\"\"\n",
    "\n",
    "pd.read_sql(query,cnx)"
   ]
  },
  {
   "cell_type": "code",
   "execution_count": null,
   "id": "d87ad709",
   "metadata": {},
   "outputs": [],
   "source": []
  },
  {
   "cell_type": "markdown",
   "id": "9267c007",
   "metadata": {},
   "source": [
    "### 46. Late orders vs. total orders - percentage  \n",
    "\n",
    "Now we want to get the percentage of late orders over total orders.\n"
   ]
  },
  {
   "cell_type": "code",
   "execution_count": null,
   "id": "6792fcf5",
   "metadata": {},
   "outputs": [],
   "source": [
    "#query template\n",
    "\n",
    "query = \"\"\"\n",
    "\n",
    "\n",
    "WITH TAB1 AS\n",
    "(\n",
    "SELECT TAB1.employee_id, last_name, LATE_ORDERS_COUNT FROM employees e\n",
    "INNER JOIN\n",
    "(SELECT employee_id, COUNT(employee_id) AS 'LATE_ORDERS_COUNT'\n",
    "FROM orders WHERE (required_date - shipped_date) <= -1 GROUP BY employee_id) AS TAB1\n",
    "ON e.employee_id = TAB1.employee_id\n",
    "GROUP BY employee_id\n",
    "),\n",
    "\n",
    "TAB2 AS\n",
    "(\n",
    "SELECT TAB1.*, COUNT(o.employee_id) AS 'TOTAL_ORDERS_COUNT'\n",
    "FROM orders o INNER JOIN TAB1\n",
    "ON o.employee_id = TAB1.employee_id\n",
    "GROUP BY o.employee_id\n",
    ")\n",
    "\n",
    "SELECT *, ROUND((LATE_ORDERS_COUNT/TOTAL_ORDERS_COUNT) * 100, 2) AS '% OF LATE ORDERS' FROM TAB2 \n",
    "ORDER BY \n",
    "(LATE_ORDERS_COUNT/TOTAL_ORDERS_COUNT) * 100 DESC\n",
    "\n",
    "\"\"\"\n",
    "\n",
    "pd.read_sql(query,cnx)"
   ]
  },
  {
   "cell_type": "code",
   "execution_count": null,
   "id": "73f432ea",
   "metadata": {},
   "outputs": [],
   "source": []
  },
  {
   "cell_type": "markdown",
   "id": "763ba72f",
   "metadata": {},
   "source": [
    "### 48. Customer grouping  \n",
    "\n",
    "Andrew Fuller, the VP of sales at Northwind, would like to do a sales\n",
    "campaign for existing customers. He'd like to categorize customers into\n",
    "groups, based on how much they ordered in 1998. Then, depending on\n",
    "which group the customer is in, he will target the customer with\n",
    "different sales materials.\n",
    "\n",
    "The customer grouping categories are 0 to 1,000, 1,000 to 5,000, 5,000\n",
    "to 10,000, and over 10,000.\n",
    "\n",
    "A good starting point for this query is the answer from the problem\n",
    "“High-value customers - total orders. We don’t want to show customers\n",
    "who don’t have any orders in 1998.\n",
    "\n",
    "Order the results by CustomerID."
   ]
  },
  {
   "cell_type": "code",
   "execution_count": null,
   "id": "1c47a053",
   "metadata": {},
   "outputs": [],
   "source": [
    "#query template\n",
    "\n",
    "query = \"\"\"\n",
    "\n",
    "WITH TAB1 AS\n",
    "(\n",
    "SELECT customer_id, SUM(unit_price * quantity) AS 'TOTAL_ORDER_VALUE'\n",
    "FROM order_details od\n",
    "INNER JOIN orders o\n",
    "ON o.order_id = od.order_id\n",
    "WHERE YEAR(order_date) = 1998\n",
    "GROUP BY customer_id\n",
    "),\n",
    "\n",
    "TAB2 AS\n",
    "(\n",
    "SELECT TAB1.*, COUNT(order_id) AS 'NO:_OF_ORDERS' FROM orders o\n",
    "INNER JOIN TAB1 \n",
    "ON o.customer_id = TAB1.customer_id\n",
    "WHERE YEAR(order_date) = 1998\n",
    "GROUP BY customer_id\n",
    ")\n",
    "\n",
    "SELECT *,\n",
    "CASE \n",
    "WHEN TOTAL_ORDER_VALUE <= 1000 THEN 'LOW SPENDING'\n",
    "WHEN TOTAL_ORDER_VALUE > 1000 AND TOTAL_ORDER_VALUE <= 5000 THEN 'MEDIUM SPENDING'\n",
    "WHEN TOTAL_ORDER_VALUE > 5000 AND TOTAL_ORDER_VALUE <= 10000 THEN 'HIGH SPENDING'\n",
    "ELSE 'HIGHEST SPENDING'\n",
    "END AS 'CUSTOMER_CATEGORY'\n",
    "FROM TAB2\n",
    "ORDER BY customer_id\n",
    "\n",
    "\n",
    "\"\"\"\n",
    "\n",
    "pd.read_sql(query,cnx)"
   ]
  },
  {
   "cell_type": "code",
   "execution_count": null,
   "id": "a8966105",
   "metadata": {},
   "outputs": [],
   "source": [
    "query = \"\"\"\n",
    "WITH TAB1 AS\n",
    "(\n",
    "SELECT customer_id, SUM(unit_price * quantity) AS 'TOTAL_ORDER_VALUE'\n",
    "FROM order_details od\n",
    "INNER JOIN orders o\n",
    "ON o.order_id = od.order_id\n",
    "WHERE YEAR(order_date) = 1998\n",
    "GROUP BY customer_id\n",
    "),\n",
    "\n",
    "TAB2 AS\n",
    "(\n",
    "SELECT TAB1.*, COUNT(order_id) AS 'NO:_OF_ORDERS' FROM orders o\n",
    "INNER JOIN TAB1 \n",
    "ON o.customer_id = TAB1.customer_id\n",
    "WHERE YEAR(order_date) = 1998\n",
    "GROUP BY customer_id\n",
    ")\n",
    "\n",
    "SELECT \n",
    "customer_id,\n",
    "CASE WHEN TOTAL_ORDER_VALUE <= 1000 THEN 1 ELSE 0 END AS 'CATEGORY_LOW',\n",
    "CASE WHEN TOTAL_ORDER_VALUE > 1000 AND TOTAL_ORDER_VALUE <= 5000 THEN 1 ELSE 0 END AS 'CATEGORY_MEDIUM',\n",
    "CASE WHEN TOTAL_ORDER_VALUE > 5000 AND TOTAL_ORDER_VALUE <= 10000 THEN 1 ELSE 0 END AS 'CATEGORY_HIGH',\n",
    "CASE WHEN TOTAL_ORDER_VALUE > 10000 THEN 1 ELSE 0 END AS 'CATEGORY_HIGHEST'\n",
    "FROM TAB2\n",
    "ORDER BY customer_id\n",
    "\"\"\"\n",
    "\n",
    "pd.read_sql(query,cnx)\n"
   ]
  },
  {
   "cell_type": "code",
   "execution_count": null,
   "id": "08c05b2b",
   "metadata": {},
   "outputs": [],
   "source": []
  },
  {
   "cell_type": "markdown",
   "id": "4efd5ed4",
   "metadata": {},
   "source": [
    "### 50. Customer grouping with percentage  \n",
    "\n",
    "Based on the above query, show all the defined CustomerGroups, and\n",
    "the percentage in each. Sort by the total in each group, in descending\n",
    "order"
   ]
  },
  {
   "cell_type": "code",
   "execution_count": null,
   "id": "5985f503",
   "metadata": {},
   "outputs": [],
   "source": [
    "#query template\n",
    "\n",
    "query = \"\"\"\n",
    "\n",
    "WITH TAB1 AS\n",
    "(\n",
    "SELECT customer_id, SUM(unit_price * quantity) AS 'TOTAL_ORDER_VALUE'\n",
    "FROM order_details od\n",
    "INNER JOIN orders o\n",
    "ON o.order_id = od.order_id\n",
    "WHERE YEAR(order_date) = 1998\n",
    "GROUP BY customer_id\n",
    "),\n",
    "\n",
    "TAB2 AS\n",
    "(\n",
    "SELECT TAB1.*, COUNT(order_id) AS 'NO:_OF_ORDERS' FROM orders o\n",
    "INNER JOIN TAB1 \n",
    "ON o.customer_id = TAB1.customer_id\n",
    "WHERE YEAR(order_date) = 1998\n",
    "GROUP BY customer_id\n",
    "),\n",
    "\n",
    "TAB3 AS\n",
    "(\n",
    "SELECT\n",
    "CASE \n",
    "WHEN TOTAL_ORDER_VALUE <= 1000 THEN 'LOW SPENDING'\n",
    "WHEN TOTAL_ORDER_VALUE > 1000 AND TOTAL_ORDER_VALUE <= 5000 THEN 'MEDIUM SPENDING'\n",
    "WHEN TOTAL_ORDER_VALUE > 5000 AND TOTAL_ORDER_VALUE <= 10000 THEN 'HIGH SPENDING'\n",
    "ELSE 'HIGHEST SPENDING'\n",
    "END AS 'CUSTOMER_CATEGORY'\n",
    "FROM TAB2\n",
    ")\n",
    "\n",
    "SELECT CUSTOMER_CATEGORY, COUNT(CUSTOMER_CATEGORY) AS 'COUNT OF EACH CATEGORY',\n",
    "(COUNT(CUSTOMER_CATEGORY)/(SELECT COUNT(*) FROM TAB3)) * 100 AS '% OF EACH CATEGORY'\n",
    "FROM TAB3 \n",
    "GROUP BY CUSTOMER_CATEGORY\n",
    "\n",
    "\"\"\"\n",
    "\n",
    "pd.read_sql(query,cnx)"
   ]
  },
  {
   "cell_type": "code",
   "execution_count": null,
   "id": "ca9d9e87",
   "metadata": {},
   "outputs": [],
   "source": []
  },
  {
   "cell_type": "markdown",
   "id": "dc66ed0f",
   "metadata": {},
   "source": [
    "### 52. Countries with suppliers or customers  \n",
    "\n",
    "Some Northwind employees are planning a business trip, and would like\n",
    "to visit as many suppliers and customers as possible. For their planning,\n",
    "they’d like to see a list of all countries where suppliers and/or customers\n",
    "are based."
   ]
  },
  {
   "cell_type": "code",
   "execution_count": null,
   "id": "92e7bfe8",
   "metadata": {},
   "outputs": [],
   "source": [
    "#query template\n",
    "\n",
    "query = \"\"\"\n",
    "\n",
    "SELECT country FROM employees\n",
    "UNION\n",
    "SELECT country FROM customers\n",
    "ORDER BY country\n",
    "\n",
    "\"\"\"\n",
    "\n",
    "pd.read_sql(query,cnx)"
   ]
  },
  {
   "cell_type": "code",
   "execution_count": null,
   "id": "83a2b806",
   "metadata": {},
   "outputs": [],
   "source": []
  },
  {
   "cell_type": "markdown",
   "id": "035b2126",
   "metadata": {},
   "source": [
    "### 53. Countries with suppliers or customers, version 2  \n",
    "\n",
    "The employees going on the business trip don’t want just a raw list of\n",
    "countries, they want more details. We’d like to see output like the\n",
    "below, in the Expected Results"
   ]
  },
  {
   "cell_type": "code",
   "execution_count": null,
   "id": "0c68e72e",
   "metadata": {},
   "outputs": [],
   "source": [
    "#query template\n",
    "\n",
    "query = \"\"\"\n",
    "\n",
    "WITH TAB1 AS\n",
    "(\n",
    "SELECT s.country AS 'SUPPLIER_COUNTRY', c.country AS 'CUSTOMER_COUNTRY'\n",
    "FROM suppliers s\n",
    "LEFT JOIN customers c\n",
    "ON s.country = c.country\n",
    "\n",
    "UNION\n",
    "\n",
    "SELECT s.country AS 'SUPPLIER_COUNTRY', c.country AS 'CUSTOMER_COUNTRY'\n",
    "FROM suppliers s\n",
    "RIGHT JOIN customers c\n",
    "ON s.country = c.country\n",
    ")\n",
    "\n",
    "SELECT * FROM TAB1 ORDER BY SUPPLIER_COUNTRY, CUSTOMER_COUNTRY\n",
    "\n",
    "\n",
    "\n",
    "\"\"\"\n",
    "\n",
    "pd.read_sql(query,cnx)"
   ]
  },
  {
   "cell_type": "code",
   "execution_count": null,
   "id": "f6eb16f0",
   "metadata": {},
   "outputs": [],
   "source": [
    "#query template\n",
    "\n",
    "query = \"\"\"\n",
    "\n",
    "SELECT allCountries.country AS country,\n",
    "       IF(s.country IS NOT NULL, 'Yes', 'No') AS in_employees,\n",
    "       IF(c.country IS NOT NULL, 'Yes', 'No') AS in_customers\n",
    "FROM\n",
    "(\n",
    "    SELECT country FROM suppliers\n",
    "    UNION \n",
    "    SELECT country FROM customers\n",
    ") AS allCountries\n",
    "LEFT JOIN\n",
    "(\n",
    "    SELECT DISTINCT country FROM customers\n",
    ") AS c\n",
    "ON allCountries.country = c.country\n",
    "LEFT JOIN\n",
    "(\n",
    "    SELECT DISTINCT country FROM suppliers\n",
    ") AS s\n",
    "ON allCountries.country = s.country\n",
    "ORDER BY allCountries.country\n",
    "\n",
    "\n",
    "\"\"\"\n",
    "\n",
    "pd.read_sql(query,cnx)"
   ]
  },
  {
   "cell_type": "code",
   "execution_count": null,
   "id": "c15eb5e0",
   "metadata": {},
   "outputs": [],
   "source": []
  },
  {
   "cell_type": "markdown",
   "id": "28e78d90",
   "metadata": {},
   "source": [
    "### 54. Countries with suppliers or customers - version 3  \n",
    "\n",
    "The output of the above is improved, but it’s still not ideal\n",
    "What we’d really like to see is the country name, the total suppliers, and\n",
    "the total customers.\n"
   ]
  },
  {
   "cell_type": "code",
   "execution_count": null,
   "id": "804010d5",
   "metadata": {},
   "outputs": [],
   "source": [
    "#query template\n",
    "\n",
    "query = \"\"\"\n",
    "\n",
    "SELECT allCountries.country as 'Country_Name',\n",
    "        IFNULL(TOTAL_CUSTOMERS,0) AS 'CUSTOMERS', IFNULL(TOTAL_SUPPLIERS,0) AS 'SUPPLIERS'\n",
    "    \n",
    "FROM\n",
    "(\n",
    "    SELECT country FROM suppliers\n",
    "    UNION \n",
    "    SELECT country FROM customers\n",
    ") AS allCountries\n",
    "LEFT JOIN\n",
    "(\n",
    "    SELECT country, COUNT(*) AS 'TOTAL_CUSTOMERS' FROM customers GROUP BY country\n",
    ") AS c\n",
    "ON allCountries.country = c.country\n",
    "LEFT JOIN\n",
    "(\n",
    "    SELECT country, COUNT(*) AS 'TOTAL_SUPPLIERS' FROM suppliers GROUP BY country\n",
    ") AS s\n",
    "ON allCountries.country = s.country\n",
    "ORDER BY Country_Name\n",
    "\n",
    "\"\"\"\n",
    "\n",
    "pd.read_sql(query,cnx)"
   ]
  },
  {
   "cell_type": "code",
   "execution_count": null,
   "id": "b2aeb91c",
   "metadata": {},
   "outputs": [],
   "source": []
  },
  {
   "cell_type": "markdown",
   "id": "d7cb771a",
   "metadata": {},
   "source": [
    "### 55. First order in each country\n",
    "\n",
    "Looking at the Orders table—we’d like to show details for each order\n",
    "that was the first in that particular country, ordered by OrderID.\n",
    "So, we need one row per ShipCountry, and CustomerID, OrderID, and\n",
    "OrderDate should be of the first order from that country."
   ]
  },
  {
   "cell_type": "code",
   "execution_count": null,
   "id": "06d1aae4",
   "metadata": {},
   "outputs": [],
   "source": [
    "#query template\n",
    "\n",
    "query = \"\"\"\n",
    "\n",
    "WITH TAB1 AS\n",
    "(\n",
    "SELECT ship_country, customer_id, order_id, order_date, ROW_NUMBER() OVER(PARTITION BY ship_country ORDER BY order_date) AS rn\n",
    "FROM orders\n",
    ")\n",
    "\n",
    "SELECT ship_country, customer_id, order_id, order_date FROM TAB1 WHERE rn = 1\n",
    "\n",
    "\"\"\"\n",
    "\n",
    "pd.read_sql(query,cnx)"
   ]
  },
  {
   "cell_type": "code",
   "execution_count": null,
   "id": "16d9fa4f",
   "metadata": {},
   "outputs": [],
   "source": []
  },
  {
   "cell_type": "markdown",
   "id": "500d986d",
   "metadata": {},
   "source": [
    "### 56. Customers with multiple orders in 5 day period  \n",
    "\n",
    "There are some customers for whom freight is a major expense when\n",
    "ordering from Northwind.\n",
    "\n",
    "However, by batching up their orders, and making one larger order\n",
    "instead of multiple smaller orders in a short period of time, they could\n",
    "reduce their freight costs significantly.\n",
    "\n",
    "Show those customers who have made more than 1 order in a 5 day\n",
    "period. The sales people will use this to help customers reduce their\n",
    "costs.\n",
    "\n",
    "Note: There are more than one way of solving this kind of problem. For\n",
    "this problem, we will not be using Window functions"
   ]
  },
  {
   "cell_type": "code",
   "execution_count": null,
   "id": "752091d7",
   "metadata": {},
   "outputs": [],
   "source": [
    "#query template\n",
    "\n",
    "query = \"\"\"\n",
    "\n",
    "SELECT InitialOrder.customer_id AS 'CUSTOMER ID', InitialOrder.order_id  AS 'INITIAL ORDER ID', \n",
    "InitialOrder.order_date AS 'INITIAL ORDER DATE',\n",
    "NextOrder.order_id AS 'NEXT ORDER ID', NextOrder.order_date AS 'NEXT ORDER DATE', \n",
    "DATEDIFF(NextOrder.order_date,InitialOrder.order_date) AS 'DAYS BETWEEN'\n",
    "FROM orders InitialOrder\n",
    "INNER JOIN orders NextOrder\n",
    "ON InitialOrder.customer_id = NextOrder.customer_id\n",
    "WHERE\n",
    "DATEDIFF(NextOrder.order_date,InitialOrder.order_date) >= 0 \n",
    "AND\n",
    "DATEDIFF(NextOrder.order_date,InitialOrder.order_date) <= 5 \n",
    "AND\n",
    "InitialOrder.order_id < NextOrder.order_id\n",
    "ORDER BY InitialOrder.customer_id\n",
    "\n",
    "\"\"\"\n",
    "\n",
    "pd.read_sql(query,cnx)"
   ]
  },
  {
   "cell_type": "code",
   "execution_count": null,
   "id": "e9af2226",
   "metadata": {},
   "outputs": [],
   "source": []
  },
  {
   "cell_type": "markdown",
   "id": "2096d9df",
   "metadata": {},
   "source": [
    "### 57. Customers with multiple orders in 5 day period, version 2  \n",
    "\n",
    "There’s another way of solving the problem above, using Window\n",
    "functions. "
   ]
  },
  {
   "cell_type": "code",
   "execution_count": null,
   "id": "cf4374a9",
   "metadata": {},
   "outputs": [],
   "source": [
    "#query template\n",
    "\n",
    "query = \"\"\"\n",
    "\n",
    "WITH TAB1 AS \n",
    "(\n",
    "SELECT customer_id AS 'CUSTOMER ID', order_id  AS 'INITIAL ORDER ID', order_date AS 'INITIAL ORDER DATE',\n",
    "LEAD(order_id) OVER(PARTITION BY customer_id ORDER BY order_id) AS 'NEXT ORDER ID',\n",
    "LEAD(order_date) OVER(PARTITION BY customer_id ORDER BY order_id) AS 'NEXT ORDER DATE'\n",
    "FROM orders\n",
    ")\n",
    "\n",
    "SELECT *, DATEDIFF(`NEXT ORDER DATE`,`INITIAL ORDER DATE`) AS 'DAYS BETWEEN'\n",
    "FROM TAB1 \n",
    "WHERE\n",
    "DATEDIFF(`NEXT ORDER DATE`,`INITIAL ORDER DATE`) <= 5\n",
    "AND \n",
    "`NEXT ORDER ID` > `INITIAL ORDER ID`\n",
    "\n",
    "\"\"\"\n",
    "\n",
    "pd.read_sql(query,cnx)"
   ]
  },
  {
   "cell_type": "code",
   "execution_count": null,
   "id": "56d5b634",
   "metadata": {},
   "outputs": [],
   "source": []
  },
  {
   "cell_type": "raw",
   "id": "510a0a99",
   "metadata": {},
   "source": [
    "df1.rename(columns = lambda x: x.replace(' ','_'), inplace = True)"
   ]
  },
  {
   "cell_type": "raw",
   "id": "3eaad957",
   "metadata": {},
   "source": [
    "df2.rename(columns = lambda x: x.replace(' ','_'), inplace = True)"
   ]
  },
  {
   "cell_type": "raw",
   "id": "380c0f13",
   "metadata": {},
   "source": [
    "df1.columns"
   ]
  },
  {
   "cell_type": "raw",
   "id": "698bc0fe",
   "metadata": {},
   "source": [
    "df2.columns"
   ]
  },
  {
   "cell_type": "raw",
   "id": "56d004ae",
   "metadata": {},
   "source": [
    "df1.merge(df2, on=['CUSTOMER_ID', 'INITIAL_ORDER_ID', 'INITIAL_ORDER_DATE',\n",
    "       'NEXT_ORDER_ID', 'NEXT_ORDER_DATE', 'DAYS_BETWEEN'], \n",
    "                   how='left', indicator=True)"
   ]
  },
  {
   "cell_type": "markdown",
   "id": "a369ac89",
   "metadata": {},
   "source": [
    "Here are some of the most common regexp patterns used in SQL to match operators and strings:\n",
    "\n",
    "* `^[a-zA-Z0-9_]` - Matches any string that starts with a letter, number, or underscore.\n",
    "* `[a-zA-Z0-9_]+` - Matches any string that consists of one or more letters, numbers, or underscores.\n",
    "* `[a-zA-Z]` - Matches any letter, regardless of case.\n",
    "* `\\d` - Matches any digit.\n",
    "* `\\w` - Matches any word character, which includes letters, numbers, and underscores.\n",
    "* `\\s` - Matches any whitespace character, such as a space, tab, or newline.\n",
    "* `.` - Matches any character, except for a newline.\n",
    "* `*` - Matches zero or more of the preceding character.\n",
    "* `+` - Matches one or more of the preceding character.\n",
    "* `?` - Matches zero or one of the preceding character.\n",
    "* `{n}` - Matches exactly n of the preceding character.\n",
    "* `{m,n}` - Matches between m and n of the preceding character, inclusive.\n",
    "* `( )` - Groups together a set of characters.\n",
    "* `|` - Matches either of the preceding characters.\n",
    "* `^` - Matches the beginning of the string.\n",
    "* `$` - Matches the end of the string.\n",
    "\n",
    "These are just a few of the most common regexp patterns used in SQL. There are many other patterns available, and you can use them to match a wide variety of strings."
   ]
  },
  {
   "cell_type": "raw",
   "id": "91f8c713",
   "metadata": {},
   "source": [
    "query = '''\n",
    "\n",
    "SELECT SUBSTR(customer_id,1,1) FROM customers\n",
    "'''\n",
    "\n",
    "pd.read_sql(query,cnx)"
   ]
  }
 ],
 "metadata": {
  "kernelspec": {
   "display_name": "Python 3 (ipykernel)",
   "language": "python",
   "name": "python3"
  },
  "language_info": {
   "codemirror_mode": {
    "name": "ipython",
    "version": 3
   },
   "file_extension": ".py",
   "mimetype": "text/x-python",
   "name": "python",
   "nbconvert_exporter": "python",
   "pygments_lexer": "ipython3",
   "version": "3.9.13"
  }
 },
 "nbformat": 4,
 "nbformat_minor": 5
}
